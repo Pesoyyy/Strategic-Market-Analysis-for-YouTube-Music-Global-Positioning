{
 "cells": [
  {
   "cell_type": "markdown",
   "id": "cbe97b27",
   "metadata": {},
   "source": [
    "=================================================\n",
    "\n",
    "Objective:  \n",
    "\n",
    "Tujuan penerapan validasi data menggunakan Great Expectations (GX) adalah untuk menjamin kualitas data streaming musik melalui pemeriksaan kelengkapan, konsistensi format, serta keunikan identitas pengguna, sekaligus mengidentifikasi anomali seperti nilai di luar jangkauan atau ketidakcocokan tipe data. Hasil validasi ini mendukung analisis lanjutan, integrasi dengan Elasticsearch, dan pengambilan keputusan strategis bisnis, sambil menghasilkan dokumentasi otomatis yang mempermudah proses audit.\n",
    "\n",
    "Latar Belakang:  \n",
    "\n",
    "Industri streaming musik telah menjadi pendorong utama pertumbuhan pendapatan musik global. Menurut Laporan Musik Global IFPI, pendapatan musik rekaman global meningkat sebesar 10,2% pada tahun 2023 menjadi US$28,6 miliar, menandai tahun kesembilan pertumbuhan berturut-turut. Peningkatan ini terutama didorong oleh pelanggan streaming berbayar, dengan pendapatan streaming berlangganan tumbuh sebesar 11,2% dan menyumbang 48,9% dari pasar global. Untuk pertama kalinya, langganan berbayar melampaui 500 juta, dengan total lebih dari 667 juta pengguna akun berlangganan berbayar di seluruh dunia berdasarkan dari artikel ini: https://www.ifpi.org/ifpi-global-music-report-global-recorded-music-revenues-grew-10-2-in-2023/\n",
    "\n",
    "================================================="
   ]
  },
  {
   "cell_type": "markdown",
   "id": "d1ec9628",
   "metadata": {},
   "source": [
    "# 1. Import libraries"
   ]
  },
  {
   "cell_type": "code",
   "execution_count": 2,
   "id": "d639ba26",
   "metadata": {},
   "outputs": [],
   "source": [
    "import great_expectations as gx\n",
    "import pandas as pd\n",
    "import numpy as np"
   ]
  },
  {
   "cell_type": "markdown",
   "id": "c509903f",
   "metadata": {},
   "source": [
    "Melakukan import libraries yang dibutuhkan dalam dokumen ini"
   ]
  },
  {
   "cell_type": "markdown",
   "id": "4a457941",
   "metadata": {},
   "source": [
    "# 2. Loading dataset"
   ]
  },
  {
   "cell_type": "code",
   "execution_count": 3,
   "id": "7d5574a1",
   "metadata": {},
   "outputs": [],
   "source": [
    "df = pd.read_csv(\"P2M3_Yoseph_Radityo_data_clean.csv\")"
   ]
  },
  {
   "cell_type": "markdown",
   "id": "e55a9f5b",
   "metadata": {},
   "source": [
    "Loading dataset yang sudah dibersihkan sebelumnya"
   ]
  },
  {
   "cell_type": "markdown",
   "id": "40e3ac53",
   "metadata": {},
   "source": [
    "# 3. Membuat Timestamp"
   ]
  },
  {
   "cell_type": "code",
   "execution_count": 4,
   "id": "47fef258",
   "metadata": {},
   "outputs": [],
   "source": [
    "np.random.seed(42)\n",
    "timestamps = pd.date_range(start=\"2023-01-01\", periods=len(df), freq=\"T\").strftime(\"%Y%m%d%H%M\")\n",
    "df[\"reg_timestamp\"] = np.random.choice(timestamps, len(df), replace=False)"
   ]
  },
  {
   "cell_type": "code",
   "execution_count": 5,
   "id": "d6c52dfb",
   "metadata": {},
   "outputs": [],
   "source": [
    "df[\"user_identifier\"] = (\n",
    "    df[\"country\"] + \"_\" \n",
    "    + df[\"age\"].astype(str) + \"_\" \n",
    "    + df[\"most_played_artist\"].str.replace(\" \", \"-\") + \"_\"\n",
    "    + df[\"reg_timestamp\"]\n",
    ")\n"
   ]
  },
  {
   "cell_type": "markdown",
   "id": "36cee37e",
   "metadata": {},
   "source": [
    "- Menggunakan random seed untuk menghasilkan timestamp acak untuk repoduktifitas\n",
    "- Membuat rentang timestamp dari 2023-01-01 dengan interval 1 menit dan menugaskan ke kolom reg_timestamp\n",
    "- Menciptakan user_identifier unik untuk menggabungkan country, age, most_played_artist dan reg_timestamp"
   ]
  },
  {
   "cell_type": "markdown",
   "id": "067f2e3d",
   "metadata": {},
   "source": [
    "# 4. Setup GX nya"
   ]
  },
  {
   "cell_type": "code",
   "execution_count": 6,
   "id": "e481fd59",
   "metadata": {},
   "outputs": [],
   "source": [
    "context = gx.get_context()"
   ]
  },
  {
   "cell_type": "markdown",
   "id": "5dce78f4",
   "metadata": {},
   "source": [
    "Melakukan inisiasi Great Expectations menggunakan `gx.get_context()` lalu menyiapkanm lingkunagan untuk validasi data"
   ]
  },
  {
   "cell_type": "markdown",
   "id": "f585db0e",
   "metadata": {},
   "source": [
    "# 5. Membuat data resources dan data asset"
   ]
  },
  {
   "cell_type": "code",
   "execution_count": 7,
   "id": "9652786f",
   "metadata": {},
   "outputs": [],
   "source": [
    "datasource = context.sources.add_or_update_pandas(name=\"my_pandas_datasource\")\n",
    "data_asset = datasource.add_dataframe_asset(name=\"my_dataframe_asset\", dataframe=df)"
   ]
  },
  {
   "cell_type": "markdown",
   "id": "ea18b8a1",
   "metadata": {},
   "source": [
    "Melakukan penambahan sumber data pandas bernama \"my_pandas_datasource\" dan menciptakan aset data \"my_dataframe_asset\" dari DataFrame untuk validasi."
   ]
  },
  {
   "cell_type": "markdown",
   "id": "af9d1be5",
   "metadata": {},
   "source": [
    "# 6. Membangun batch request"
   ]
  },
  {
   "cell_type": "code",
   "execution_count": 8,
   "id": "5e569c11",
   "metadata": {},
   "outputs": [],
   "source": [
    "batch_request = data_asset.build_batch_request()"
   ]
  },
  {
   "cell_type": "markdown",
   "id": "4d92d7ff",
   "metadata": {},
   "source": [
    "Membuat dan membangung permintaan yang akan digunakan pada batch. Dimana dari aset data, akan digunakan untuk menentukan data yang akan divalidasi."
   ]
  },
  {
   "cell_type": "markdown",
   "id": "1031fbdf",
   "metadata": {},
   "source": [
    "# 7. Membangun expectation Suite"
   ]
  },
  {
   "cell_type": "code",
   "execution_count": 9,
   "id": "a57e0ce7",
   "metadata": {},
   "outputs": [
    {
     "data": {
      "text/plain": [
       "{\n",
       "  \"expectation_suite_name\": \"data_validation_suite\",\n",
       "  \"ge_cloud_id\": null,\n",
       "  \"expectations\": [],\n",
       "  \"data_asset_type\": null,\n",
       "  \"meta\": {\n",
       "    \"great_expectations_version\": \"0.18.22\"\n",
       "  }\n",
       "}"
      ]
     },
     "execution_count": 9,
     "metadata": {},
     "output_type": "execute_result"
    }
   ],
   "source": [
    "expectation_suite_name = \"data_validation_suite\"\n",
    "context.add_or_update_expectation_suite(expectation_suite_name=expectation_suite_name)"
   ]
  },
  {
   "cell_type": "markdown",
   "id": "4df74e0a",
   "metadata": {},
   "source": [
    "Menciptakan atau memperbarui suite harapan bernama \"data_validation_suite\" untuk mendefinisikan harapan kualitas data."
   ]
  },
  {
   "cell_type": "markdown",
   "id": "bf94d2fe",
   "metadata": {},
   "source": [
    "# 8. Membuat validator"
   ]
  },
  {
   "cell_type": "code",
   "execution_count": 10,
   "id": "90877f51",
   "metadata": {},
   "outputs": [],
   "source": [
    "validator = context.get_validator(\n",
    "    batch_request=batch_request,\n",
    "    expectation_suite_name=expectation_suite_name,\n",
    ")"
   ]
  },
  {
   "cell_type": "markdown",
   "id": "7bdfad35",
   "metadata": {},
   "source": [
    "Menginisialisasi objek validator menggunakan permintaan batch dan suite harapan untuk melakukan validasi."
   ]
  },
  {
   "cell_type": "markdown",
   "id": "e1e292e6",
   "metadata": {},
   "source": [
    "# 9. Menambahkan Expectation"
   ]
  },
  {
   "cell_type": "markdown",
   "id": "f48489c2",
   "metadata": {},
   "source": [
    "## 9.1  Unique"
   ]
  },
  {
   "cell_type": "code",
   "execution_count": 11,
   "id": "ea0bab19",
   "metadata": {},
   "outputs": [
    {
     "data": {
      "application/vnd.jupyter.widget-view+json": {
       "model_id": "dfdd8119bd5645c8a2b8a938c090d8af",
       "version_major": 2,
       "version_minor": 0
      },
      "text/plain": [
       "Calculating Metrics:   0%|          | 0/8 [00:00<?, ?it/s]"
      ]
     },
     "metadata": {},
     "output_type": "display_data"
    },
    {
     "data": {
      "text/plain": [
       "{\n",
       "  \"success\": true,\n",
       "  \"result\": {\n",
       "    \"element_count\": 5000,\n",
       "    \"unexpected_count\": 0,\n",
       "    \"unexpected_percent\": 0.0,\n",
       "    \"partial_unexpected_list\": [],\n",
       "    \"missing_count\": 0,\n",
       "    \"missing_percent\": 0.0,\n",
       "    \"unexpected_percent_total\": 0.0,\n",
       "    \"unexpected_percent_nonmissing\": 0.0\n",
       "  },\n",
       "  \"meta\": {},\n",
       "  \"exception_info\": {\n",
       "    \"raised_exception\": false,\n",
       "    \"exception_traceback\": null,\n",
       "    \"exception_message\": null\n",
       "  }\n",
       "}"
      ]
     },
     "execution_count": 11,
     "metadata": {},
     "output_type": "execute_result"
    }
   ],
   "source": [
    "validator.expect_column_values_to_be_unique(column=\"user_identifier\")"
   ]
  },
  {
   "cell_type": "markdown",
   "id": "625c3443",
   "metadata": {},
   "source": [
    "Memastikan user identifier yang dibuat adalah unique"
   ]
  },
  {
   "cell_type": "markdown",
   "id": "bcd90f6c",
   "metadata": {},
   "source": [
    "## 9.2  Age range"
   ]
  },
  {
   "cell_type": "code",
   "execution_count": 12,
   "id": "612897a5",
   "metadata": {},
   "outputs": [
    {
     "data": {
      "application/vnd.jupyter.widget-view+json": {
       "model_id": "6f33547da72c4c35a1617809432f5541",
       "version_major": 2,
       "version_minor": 0
      },
      "text/plain": [
       "Calculating Metrics:   0%|          | 0/8 [00:00<?, ?it/s]"
      ]
     },
     "metadata": {},
     "output_type": "display_data"
    },
    {
     "data": {
      "text/plain": [
       "{\n",
       "  \"success\": true,\n",
       "  \"result\": {\n",
       "    \"element_count\": 5000,\n",
       "    \"unexpected_count\": 0,\n",
       "    \"unexpected_percent\": 0.0,\n",
       "    \"partial_unexpected_list\": [],\n",
       "    \"missing_count\": 0,\n",
       "    \"missing_percent\": 0.0,\n",
       "    \"unexpected_percent_total\": 0.0,\n",
       "    \"unexpected_percent_nonmissing\": 0.0\n",
       "  },\n",
       "  \"meta\": {},\n",
       "  \"exception_info\": {\n",
       "    \"raised_exception\": false,\n",
       "    \"exception_traceback\": null,\n",
       "    \"exception_message\": null\n",
       "  }\n",
       "}"
      ]
     },
     "execution_count": 12,
     "metadata": {},
     "output_type": "execute_result"
    }
   ],
   "source": [
    "validator.expect_column_values_to_be_between(\n",
    "    column=\"age\", \n",
    "    min_value=13, \n",
    "    max_value=65\n",
    ")"
   ]
  },
  {
   "cell_type": "markdown",
   "id": "ce1bd369",
   "metadata": {},
   "source": [
    "Memeriksa age antara 13-65"
   ]
  },
  {
   "cell_type": "markdown",
   "id": "810581cb",
   "metadata": {},
   "source": [
    "## 9.3  Subscription Type"
   ]
  },
  {
   "cell_type": "code",
   "execution_count": 13,
   "id": "a032ac59",
   "metadata": {},
   "outputs": [
    {
     "data": {
      "application/vnd.jupyter.widget-view+json": {
       "model_id": "276c985d2fcc414e9dc334aa75856b83",
       "version_major": 2,
       "version_minor": 0
      },
      "text/plain": [
       "Calculating Metrics:   0%|          | 0/8 [00:00<?, ?it/s]"
      ]
     },
     "metadata": {},
     "output_type": "display_data"
    },
    {
     "data": {
      "text/plain": [
       "{\n",
       "  \"success\": true,\n",
       "  \"result\": {\n",
       "    \"element_count\": 5000,\n",
       "    \"unexpected_count\": 0,\n",
       "    \"unexpected_percent\": 0.0,\n",
       "    \"partial_unexpected_list\": [],\n",
       "    \"missing_count\": 0,\n",
       "    \"missing_percent\": 0.0,\n",
       "    \"unexpected_percent_total\": 0.0,\n",
       "    \"unexpected_percent_nonmissing\": 0.0\n",
       "  },\n",
       "  \"meta\": {},\n",
       "  \"exception_info\": {\n",
       "    \"raised_exception\": false,\n",
       "    \"exception_traceback\": null,\n",
       "    \"exception_message\": null\n",
       "  }\n",
       "}"
      ]
     },
     "execution_count": 13,
     "metadata": {},
     "output_type": "execute_result"
    }
   ],
   "source": [
    "validator.expect_column_values_to_be_in_set(\n",
    "    column=\"subscription_type\", \n",
    "    value_set=[\"free\", \"premium\"]\n",
    ")"
   ]
  },
  {
   "cell_type": "markdown",
   "id": "6fd1f73b",
   "metadata": {},
   "source": [
    "Memverifikasi 2 jesnis subs yang ada dalam dataset, dimana disini tergbagi menjadi 2 yaitu Free dan Premium"
   ]
  },
  {
   "cell_type": "markdown",
   "id": "4579e668",
   "metadata": {},
   "source": [
    "## 9.4  Data Type"
   ]
  },
  {
   "cell_type": "code",
   "execution_count": 14,
   "id": "ff6b7afe",
   "metadata": {},
   "outputs": [
    {
     "data": {
      "application/vnd.jupyter.widget-view+json": {
       "model_id": "d9dc3d8793734e49995149406609538e",
       "version_major": 2,
       "version_minor": 0
      },
      "text/plain": [
       "Calculating Metrics:   0%|          | 0/1 [00:00<?, ?it/s]"
      ]
     },
     "metadata": {},
     "output_type": "display_data"
    },
    {
     "data": {
      "text/plain": [
       "{\n",
       "  \"success\": true,\n",
       "  \"result\": {\n",
       "    \"observed_value\": \"float64\"\n",
       "  },\n",
       "  \"meta\": {},\n",
       "  \"exception_info\": {\n",
       "    \"raised_exception\": false,\n",
       "    \"exception_traceback\": null,\n",
       "    \"exception_message\": null\n",
       "  }\n",
       "}"
      ]
     },
     "execution_count": 14,
     "metadata": {},
     "output_type": "execute_result"
    }
   ],
   "source": [
    "validator.expect_column_values_to_be_in_type_list(\n",
    "    column=\"discover_engagement\", \n",
    "    type_list=[\"float\", \"float64\"]\n",
    ")"
   ]
  },
  {
   "cell_type": "markdown",
   "id": "862b23e0",
   "metadata": {},
   "source": [
    "Mengkonfirmasi tipe data"
   ]
  },
  {
   "cell_type": "markdown",
   "id": "8777604e",
   "metadata": {},
   "source": [
    "## 9.5  Panjang Nama Artis"
   ]
  },
  {
   "cell_type": "code",
   "execution_count": 15,
   "id": "887aebb3",
   "metadata": {},
   "outputs": [
    {
     "data": {
      "application/vnd.jupyter.widget-view+json": {
       "model_id": "ea2ab292e1f84bf9b0dd80feb0e1471b",
       "version_major": 2,
       "version_minor": 0
      },
      "text/plain": [
       "Calculating Metrics:   0%|          | 0/9 [00:00<?, ?it/s]"
      ]
     },
     "metadata": {},
     "output_type": "display_data"
    },
    {
     "data": {
      "text/plain": [
       "{\n",
       "  \"success\": true,\n",
       "  \"result\": {\n",
       "    \"element_count\": 5000,\n",
       "    \"unexpected_count\": 0,\n",
       "    \"unexpected_percent\": 0.0,\n",
       "    \"partial_unexpected_list\": [],\n",
       "    \"missing_count\": 0,\n",
       "    \"missing_percent\": 0.0,\n",
       "    \"unexpected_percent_total\": 0.0,\n",
       "    \"unexpected_percent_nonmissing\": 0.0\n",
       "  },\n",
       "  \"meta\": {},\n",
       "  \"exception_info\": {\n",
       "    \"raised_exception\": false,\n",
       "    \"exception_traceback\": null,\n",
       "    \"exception_message\": null\n",
       "  }\n",
       "}"
      ]
     },
     "execution_count": 15,
     "metadata": {},
     "output_type": "execute_result"
    }
   ],
   "source": [
    "validator.expect_column_value_lengths_to_be_between(\n",
    "    column=\"most_played_artist\", \n",
    "    min_value=3, \n",
    "    max_value=30\n",
    ")"
   ]
  },
  {
   "cell_type": "markdown",
   "id": "3c65132e",
   "metadata": {},
   "source": [
    "memastikan nama panjang artist terdiri dari 3-30 karakter "
   ]
  },
  {
   "cell_type": "markdown",
   "id": "a1f59407",
   "metadata": {},
   "source": [
    "## 9.6  Format Grup Umur "
   ]
  },
  {
   "cell_type": "code",
   "execution_count": 16,
   "id": "9cf8ddc1",
   "metadata": {},
   "outputs": [
    {
     "data": {
      "application/vnd.jupyter.widget-view+json": {
       "model_id": "5212101435b14d5c8471de8ae63e1bab",
       "version_major": 2,
       "version_minor": 0
      },
      "text/plain": [
       "Calculating Metrics:   0%|          | 0/8 [00:00<?, ?it/s]"
      ]
     },
     "metadata": {},
     "output_type": "display_data"
    },
    {
     "data": {
      "text/plain": [
       "{\n",
       "  \"success\": true,\n",
       "  \"result\": {\n",
       "    \"element_count\": 5000,\n",
       "    \"unexpected_count\": 0,\n",
       "    \"unexpected_percent\": 0.0,\n",
       "    \"partial_unexpected_list\": [],\n",
       "    \"missing_count\": 0,\n",
       "    \"missing_percent\": 0.0,\n",
       "    \"unexpected_percent_total\": 0.0,\n",
       "    \"unexpected_percent_nonmissing\": 0.0\n",
       "  },\n",
       "  \"meta\": {},\n",
       "  \"exception_info\": {\n",
       "    \"raised_exception\": false,\n",
       "    \"exception_traceback\": null,\n",
       "    \"exception_message\": null\n",
       "  }\n",
       "}"
      ]
     },
     "execution_count": 16,
     "metadata": {},
     "output_type": "execute_result"
    }
   ],
   "source": [
    "validator.expect_column_values_to_match_regex(\n",
    "    column=\"age_group\", \n",
    "    regex=r\"^(<18|18-25|26-35|36-50|50\\+)$\"\n",
    ")"
   ]
  },
  {
   "cell_type": "markdown",
   "id": "13748c05",
   "metadata": {},
   "source": [
    "Lakukan validasi format age group dengan regex"
   ]
  },
  {
   "cell_type": "markdown",
   "id": "99d70e24",
   "metadata": {},
   "source": [
    "## 9.7  Minimal Lagu yang di Like"
   ]
  },
  {
   "cell_type": "code",
   "execution_count": 17,
   "id": "c3d7d3b0",
   "metadata": {},
   "outputs": [
    {
     "data": {
      "application/vnd.jupyter.widget-view+json": {
       "model_id": "3c234f85f1054609a5fa6356053a53fb",
       "version_major": 2,
       "version_minor": 0
      },
      "text/plain": [
       "Calculating Metrics:   0%|          | 0/4 [00:00<?, ?it/s]"
      ]
     },
     "metadata": {},
     "output_type": "display_data"
    },
    {
     "data": {
      "text/plain": [
       "{\n",
       "  \"success\": true,\n",
       "  \"result\": {\n",
       "    \"observed_value\": 1\n",
       "  },\n",
       "  \"meta\": {},\n",
       "  \"exception_info\": {\n",
       "    \"raised_exception\": false,\n",
       "    \"exception_traceback\": null,\n",
       "    \"exception_message\": null\n",
       "  }\n",
       "}"
      ]
     },
     "execution_count": 17,
     "metadata": {},
     "output_type": "execute_result"
    }
   ],
   "source": [
    "validator.expect_column_min_to_be_between(\n",
    "    column=\"number_of_songs_liked\", \n",
    "    min_value=1\n",
    ")"
   ]
  },
  {
   "cell_type": "markdown",
   "id": "dd80467b",
   "metadata": {},
   "source": [
    "Memastikan bahwa minimal number of songs liked adalah satu"
   ]
  },
  {
   "cell_type": "markdown",
   "id": "97dd49f5",
   "metadata": {},
   "source": [
    "# 10. Menyimpan expectation suite"
   ]
  },
  {
   "cell_type": "code",
   "execution_count": 18,
   "id": "71d1f836",
   "metadata": {},
   "outputs": [],
   "source": [
    "validator.save_expectation_suite(discard_failed_expectations=False)"
   ]
  },
  {
   "cell_type": "markdown",
   "id": "655ebfbd",
   "metadata": {},
   "source": [
    "# 11. Membuat dan menjalankan checkpoint"
   ]
  },
  {
   "cell_type": "code",
   "execution_count": null,
   "id": "87c2f065",
   "metadata": {},
   "outputs": [],
   "source": [
    "checkpoint_name = \"my_data_validation_checkpoint\"\n",
    "checkpoint = context.add_or_update_checkpoint(\n",
    "    name=checkpoint_name,\n",
    "    validator=validator,\n",
    ")"
   ]
  },
  {
   "cell_type": "code",
   "execution_count": 20,
   "id": "73fa59e8",
   "metadata": {},
   "outputs": [
    {
     "data": {
      "application/vnd.jupyter.widget-view+json": {
       "model_id": "5180af94e48c481d860b0a84891da796",
       "version_major": 2,
       "version_minor": 0
      },
      "text/plain": [
       "Calculating Metrics:   0%|          | 0/40 [00:00<?, ?it/s]"
      ]
     },
     "metadata": {},
     "output_type": "display_data"
    }
   ],
   "source": [
    "checkpoint_result = checkpoint.run()"
   ]
  },
  {
   "cell_type": "markdown",
   "id": "9d788cec",
   "metadata": {},
   "source": [
    "Menciptkan checckpoint bernama \n",
    "checkpoint_name = \"my_data_validation_checkpoint\"\n"
   ]
  },
  {
   "cell_type": "markdown",
   "id": "947d1f84",
   "metadata": {},
   "source": [
    "# 12. Hasil Validasi"
   ]
  },
  {
   "cell_type": "code",
   "execution_count": 21,
   "id": "671dda0b",
   "metadata": {},
   "outputs": [
    {
     "name": "stdout",
     "output_type": "stream",
     "text": [
      "Checkpoint Result:\n",
      "{\n",
      "  \"run_id\": {\n",
      "    \"run_name\": null,\n",
      "    \"run_time\": \"2025-07-07T18:32:20.466466+07:00\"\n",
      "  },\n",
      "  \"run_results\": {\n",
      "    \"ValidationResultIdentifier::data_validation_suite/__none__/20250707T113220.466466Z/my_pandas_datasource-my_dataframe_asset\": {\n",
      "      \"validation_result\": {\n",
      "        \"success\": true,\n",
      "        \"results\": [\n",
      "          {\n",
      "            \"success\": true,\n",
      "            \"expectation_config\": {\n",
      "              \"expectation_type\": \"expect_column_values_to_be_unique\",\n",
      "              \"kwargs\": {\n",
      "                \"column\": \"user_identifier\",\n",
      "                \"batch_id\": \"my_pandas_datasource-my_dataframe_asset\"\n",
      "              },\n",
      "              \"meta\": {}\n",
      "            },\n",
      "            \"result\": {\n",
      "              \"element_count\": 5000,\n",
      "              \"unexpected_count\": 0,\n",
      "              \"unexpected_percent\": 0.0,\n",
      "              \"partial_unexpected_list\": [],\n",
      "              \"missing_count\": 0,\n",
      "              \"missing_percent\": 0.0,\n",
      "              \"unexpected_percent_total\": 0.0,\n",
      "              \"unexpected_percent_nonmissing\": 0.0,\n",
      "              \"partial_unexpected_counts\": [],\n",
      "              \"partial_unexpected_index_list\": []\n",
      "            },\n",
      "            \"meta\": {},\n",
      "            \"exception_info\": {\n",
      "              \"raised_exception\": false,\n",
      "              \"exception_traceback\": null,\n",
      "              \"exception_message\": null\n",
      "            }\n",
      "          },\n",
      "          {\n",
      "            \"success\": true,\n",
      "            \"expectation_config\": {\n",
      "              \"expectation_type\": \"expect_column_values_to_be_between\",\n",
      "              \"kwargs\": {\n",
      "                \"column\": \"age\",\n",
      "                \"max_value\": 65,\n",
      "                \"min_value\": 13,\n",
      "                \"batch_id\": \"my_pandas_datasource-my_dataframe_asset\"\n",
      "              },\n",
      "              \"meta\": {}\n",
      "            },\n",
      "            \"result\": {\n",
      "              \"element_count\": 5000,\n",
      "              \"unexpected_count\": 0,\n",
      "              \"unexpected_percent\": 0.0,\n",
      "              \"partial_unexpected_list\": [],\n",
      "              \"missing_count\": 0,\n",
      "              \"missing_percent\": 0.0,\n",
      "              \"unexpected_percent_total\": 0.0,\n",
      "              \"unexpected_percent_nonmissing\": 0.0,\n",
      "              \"partial_unexpected_counts\": [],\n",
      "              \"partial_unexpected_index_list\": []\n",
      "            },\n",
      "            \"meta\": {},\n",
      "            \"exception_info\": {\n",
      "              \"raised_exception\": false,\n",
      "              \"exception_traceback\": null,\n",
      "              \"exception_message\": null\n",
      "            }\n",
      "          },\n",
      "          {\n",
      "            \"success\": true,\n",
      "            \"expectation_config\": {\n",
      "              \"expectation_type\": \"expect_column_values_to_be_in_set\",\n",
      "              \"kwargs\": {\n",
      "                \"column\": \"subscription_type\",\n",
      "                \"value_set\": [\n",
      "                  \"free\",\n",
      "                  \"premium\"\n",
      "                ],\n",
      "                \"batch_id\": \"my_pandas_datasource-my_dataframe_asset\"\n",
      "              },\n",
      "              \"meta\": {}\n",
      "            },\n",
      "            \"result\": {\n",
      "              \"element_count\": 5000,\n",
      "              \"unexpected_count\": 0,\n",
      "              \"unexpected_percent\": 0.0,\n",
      "              \"partial_unexpected_list\": [],\n",
      "              \"missing_count\": 0,\n",
      "              \"missing_percent\": 0.0,\n",
      "              \"unexpected_percent_total\": 0.0,\n",
      "              \"unexpected_percent_nonmissing\": 0.0,\n",
      "              \"partial_unexpected_counts\": [],\n",
      "              \"partial_unexpected_index_list\": []\n",
      "            },\n",
      "            \"meta\": {},\n",
      "            \"exception_info\": {\n",
      "              \"raised_exception\": false,\n",
      "              \"exception_traceback\": null,\n",
      "              \"exception_message\": null\n",
      "            }\n",
      "          },\n",
      "          {\n",
      "            \"success\": true,\n",
      "            \"expectation_config\": {\n",
      "              \"expectation_type\": \"expect_column_values_to_be_in_type_list\",\n",
      "              \"kwargs\": {\n",
      "                \"column\": \"discover_engagement\",\n",
      "                \"type_list\": [\n",
      "                  \"float\",\n",
      "                  \"float64\"\n",
      "                ],\n",
      "                \"batch_id\": \"my_pandas_datasource-my_dataframe_asset\"\n",
      "              },\n",
      "              \"meta\": {}\n",
      "            },\n",
      "            \"result\": {\n",
      "              \"observed_value\": \"float64\"\n",
      "            },\n",
      "            \"meta\": {},\n",
      "            \"exception_info\": {\n",
      "              \"raised_exception\": false,\n",
      "              \"exception_traceback\": null,\n",
      "              \"exception_message\": null\n",
      "            }\n",
      "          },\n",
      "          {\n",
      "            \"success\": true,\n",
      "            \"expectation_config\": {\n",
      "              \"expectation_type\": \"expect_column_value_lengths_to_be_between\",\n",
      "              \"kwargs\": {\n",
      "                \"column\": \"most_played_artist\",\n",
      "                \"max_value\": 30,\n",
      "                \"min_value\": 3,\n",
      "                \"batch_id\": \"my_pandas_datasource-my_dataframe_asset\"\n",
      "              },\n",
      "              \"meta\": {}\n",
      "            },\n",
      "            \"result\": {\n",
      "              \"element_count\": 5000,\n",
      "              \"unexpected_count\": 0,\n",
      "              \"unexpected_percent\": 0.0,\n",
      "              \"partial_unexpected_list\": [],\n",
      "              \"missing_count\": 0,\n",
      "              \"missing_percent\": 0.0,\n",
      "              \"unexpected_percent_total\": 0.0,\n",
      "              \"unexpected_percent_nonmissing\": 0.0,\n",
      "              \"partial_unexpected_counts\": [],\n",
      "              \"partial_unexpected_index_list\": []\n",
      "            },\n",
      "            \"meta\": {},\n",
      "            \"exception_info\": {\n",
      "              \"raised_exception\": false,\n",
      "              \"exception_traceback\": null,\n",
      "              \"exception_message\": null\n",
      "            }\n",
      "          },\n",
      "          {\n",
      "            \"success\": true,\n",
      "            \"expectation_config\": {\n",
      "              \"expectation_type\": \"expect_column_values_to_match_regex\",\n",
      "              \"kwargs\": {\n",
      "                \"column\": \"age_group\",\n",
      "                \"regex\": \"^(<18|18-25|26-35|36-50|50\\\\+)$\",\n",
      "                \"batch_id\": \"my_pandas_datasource-my_dataframe_asset\"\n",
      "              },\n",
      "              \"meta\": {}\n",
      "            },\n",
      "            \"result\": {\n",
      "              \"element_count\": 5000,\n",
      "              \"unexpected_count\": 0,\n",
      "              \"unexpected_percent\": 0.0,\n",
      "              \"partial_unexpected_list\": [],\n",
      "              \"missing_count\": 0,\n",
      "              \"missing_percent\": 0.0,\n",
      "              \"unexpected_percent_total\": 0.0,\n",
      "              \"unexpected_percent_nonmissing\": 0.0,\n",
      "              \"partial_unexpected_counts\": [],\n",
      "              \"partial_unexpected_index_list\": []\n",
      "            },\n",
      "            \"meta\": {},\n",
      "            \"exception_info\": {\n",
      "              \"raised_exception\": false,\n",
      "              \"exception_traceback\": null,\n",
      "              \"exception_message\": null\n",
      "            }\n",
      "          },\n",
      "          {\n",
      "            \"success\": true,\n",
      "            \"expectation_config\": {\n",
      "              \"expectation_type\": \"expect_column_min_to_be_between\",\n",
      "              \"kwargs\": {\n",
      "                \"column\": \"number_of_songs_liked\",\n",
      "                \"min_value\": 1,\n",
      "                \"batch_id\": \"my_pandas_datasource-my_dataframe_asset\"\n",
      "              },\n",
      "              \"meta\": {}\n",
      "            },\n",
      "            \"result\": {\n",
      "              \"observed_value\": 1\n",
      "            },\n",
      "            \"meta\": {},\n",
      "            \"exception_info\": {\n",
      "              \"raised_exception\": false,\n",
      "              \"exception_traceback\": null,\n",
      "              \"exception_message\": null\n",
      "            }\n",
      "          }\n",
      "        ],\n",
      "        \"evaluation_parameters\": {},\n",
      "        \"statistics\": {\n",
      "          \"evaluated_expectations\": 7,\n",
      "          \"successful_expectations\": 7,\n",
      "          \"unsuccessful_expectations\": 0,\n",
      "          \"success_percent\": 100.0\n",
      "        },\n",
      "        \"meta\": {\n",
      "          \"great_expectations_version\": \"0.18.22\",\n",
      "          \"expectation_suite_name\": \"data_validation_suite\",\n",
      "          \"run_id\": {\n",
      "            \"run_name\": null,\n",
      "            \"run_time\": \"2025-07-07T18:32:20.466466+07:00\"\n",
      "          },\n",
      "          \"batch_spec\": {\n",
      "            \"batch_data\": \"PandasDataFrame\"\n",
      "          },\n",
      "          \"batch_markers\": {\n",
      "            \"ge_load_time\": \"20250707T113220.477503Z\",\n",
      "            \"pandas_data_fingerprint\": \"db8543e62047c62081af0340354e4573\"\n",
      "          },\n",
      "          \"active_batch_definition\": {\n",
      "            \"datasource_name\": \"my_pandas_datasource\",\n",
      "            \"data_connector_name\": \"fluent\",\n",
      "            \"data_asset_name\": \"my_dataframe_asset\",\n",
      "            \"batch_identifiers\": {}\n",
      "          },\n",
      "          \"validation_time\": \"20250707T113220.504694Z\",\n",
      "          \"checkpoint_name\": \"my_data_validation_checkpoint\",\n",
      "          \"validation_id\": null,\n",
      "          \"checkpoint_id\": null\n",
      "        }\n",
      "      },\n",
      "      \"actions_results\": {\n",
      "        \"store_validation_result\": {\n",
      "          \"class\": \"StoreValidationResultAction\"\n",
      "        },\n",
      "        \"store_evaluation_params\": {\n",
      "          \"class\": \"StoreEvaluationParametersAction\"\n",
      "        },\n",
      "        \"update_data_docs\": {\n",
      "          \"local_site\": \"file://C:\\\\Users\\\\Lenovo\\\\AppData\\\\Local\\\\Temp\\\\tmpmediuznr\\\\validations%5Cdata_validation_suite%5C__none__%5C20250707T113220.466466Z%5Cmy_pandas_datasource-my_dataframe_asset.html\",\n",
      "          \"class\": \"UpdateDataDocsAction\"\n",
      "        }\n",
      "      }\n",
      "    }\n",
      "  },\n",
      "  \"checkpoint_config\": {\n",
      "    \"module_name\": \"great_expectations.checkpoint\",\n",
      "    \"template_name\": null,\n",
      "    \"profilers\": [],\n",
      "    \"default_validation_id\": null,\n",
      "    \"validations\": [\n",
      "      {\n",
      "        \"id\": null,\n",
      "        \"name\": null,\n",
      "        \"expectation_suite_ge_cloud_id\": null,\n",
      "        \"expectation_suite_name\": \"data_validation_suite\",\n",
      "        \"batch_request\": {\n",
      "          \"datasource_name\": \"my_pandas_datasource\",\n",
      "          \"data_asset_name\": \"my_dataframe_asset\",\n",
      "          \"options\": {},\n",
      "          \"batch_slice\": null\n",
      "        }\n",
      "      }\n",
      "    ],\n",
      "    \"expectation_suite_ge_cloud_id\": null,\n",
      "    \"action_list\": [\n",
      "      {\n",
      "        \"name\": \"store_validation_result\",\n",
      "        \"action\": {\n",
      "          \"class_name\": \"StoreValidationResultAction\"\n",
      "        }\n",
      "      },\n",
      "      {\n",
      "        \"name\": \"store_evaluation_params\",\n",
      "        \"action\": {\n",
      "          \"class_name\": \"StoreEvaluationParametersAction\"\n",
      "        }\n",
      "      },\n",
      "      {\n",
      "        \"name\": \"update_data_docs\",\n",
      "        \"action\": {\n",
      "          \"class_name\": \"UpdateDataDocsAction\"\n",
      "        }\n",
      "      }\n",
      "    ],\n",
      "    \"runtime_configuration\": {},\n",
      "    \"run_name_template\": null,\n",
      "    \"notify_on\": null,\n",
      "    \"site_names\": null,\n",
      "    \"class_name\": \"Checkpoint\",\n",
      "    \"evaluation_parameters\": {},\n",
      "    \"expectation_suite_name\": null,\n",
      "    \"slack_webhook\": null,\n",
      "    \"name\": \"my_data_validation_checkpoint\",\n",
      "    \"notify_with\": null,\n",
      "    \"config_version\": 1.0,\n",
      "    \"batch_request\": {},\n",
      "    \"ge_cloud_id\": null\n",
      "  },\n",
      "  \"success\": true\n",
      "}\n"
     ]
    }
   ],
   "source": [
    "print(\"Checkpoint Result:\")\n",
    "print(checkpoint_result)"
   ]
  },
  {
   "cell_type": "markdown",
   "id": "0651281d",
   "metadata": {},
   "source": [
    "Mencetak hasil checkpoint yang sudah dilakukan"
   ]
  },
  {
   "cell_type": "markdown",
   "id": "3c921e70",
   "metadata": {},
   "source": [
    "# 13. Meng-generate laporan "
   ]
  },
  {
   "cell_type": "code",
   "execution_count": 22,
   "id": "60d7022b",
   "metadata": {},
   "outputs": [],
   "source": [
    "context.build_data_docs()\n",
    "context.open_data_docs()"
   ]
  },
  {
   "cell_type": "markdown",
   "id": "3ef4b8d1",
   "metadata": {},
   "source": [
    "Membangun dan membuka dokumentasi data menggunakan Great Expectations, menghasilkan laporan dalam format HTML untuk visualisasi hasil validasi."
   ]
  }
 ],
 "metadata": {
  "kernelspec": {
   "display_name": "h8_env",
   "language": "python",
   "name": "python3"
  },
  "language_info": {
   "codemirror_mode": {
    "name": "ipython",
    "version": 3
   },
   "file_extension": ".py",
   "mimetype": "text/x-python",
   "name": "python",
   "nbconvert_exporter": "python",
   "pygments_lexer": "ipython3",
   "version": "3.9.23"
  }
 },
 "nbformat": 4,
 "nbformat_minor": 5
}
